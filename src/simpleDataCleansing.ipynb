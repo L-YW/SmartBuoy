{
 "cells": [
  {
   "cell_type": "code",
   "execution_count": 1,
   "id": "f267a998-7c63-463a-8e2d-1b28c9f25a55",
   "metadata": {},
   "outputs": [],
   "source": [
    "import csv\n",
    "import matplotlib.pyplot as plt"
   ]
  },
  {
   "cell_type": "code",
   "execution_count": null,
   "id": "f7e0811c-033b-4fc5-b5bd-b92a75cee075",
   "metadata": {},
   "outputs": [],
   "source": [
    "# 부산청(101) = [부산항유도등부표(01), 북형제도등대(02), 생도등표(03)]   ex) 부산항유도등부표 = 10101\n",
    "# 동해청(111) = [묵호항동방파제등대(01), 주문진항동방파제등대(02)]       ex) 묵호항동방파제등대 = 11101"
   ]
  },
  {
   "cell_type": "code",
   "execution_count": 2,
   "id": "3469e8aa-442b-4d2d-bce5-f675fb4d2791",
   "metadata": {},
   "outputs": [],
   "source": [
    "# Data List\n",
    "list_10101 = []\n",
    "list_10102 = []\n",
    "list_10103 = []\n",
    "list_11101 = []\n",
    "list_11102 = []\n",
    "# Header List\n",
    "header_10101 = []\n",
    "header_10102 = []\n",
    "header_10103 = []\n",
    "header_11101 = []\n",
    "header_11102 = []\n"
   ]
  },
  {
   "cell_type": "code",
   "execution_count": 3,
   "id": "74a4147e-cf40-4a7a-8d76-8134862a115b",
   "metadata": {},
   "outputs": [],
   "source": [
    "def readCSV():\n",
    "    location = 'C:/Users/KETI/Desktop/git/SmartBuoy/SampleData'\n",
    "    file_status = 'status.csv'\n",
    "    file_weather = 'weather.csv'\n",
    "\n",
    "    temp = []\n",
    "    header = []\n",
    "\n",
    "    first_loop_10101 = True\n",
    "    first_loop_10102 = True\n",
    "    first_loop_10103 = True\n",
    "    first_loop_11101 = True\n",
    "    first_loop_11102 = True\n",
    "    with open(file_status, 'r') as file:\n",
    "        reader = csv.reader(file)\n",
    "\n",
    "        for row in reader:\n",
    "            if '지방청' in row[0]:\n",
    "                header = row\n",
    "\n",
    "            elif '부산항' in row[1]:\n",
    "                count = 4\n",
    "                for val in row[4:]:\n",
    "                    if len(val) > 0:\n",
    "                        temp.append(float(val))\n",
    "                        if first_loop_10101: #헤더 추출\n",
    "                            header_10101.append(header[count])\n",
    "                    count += 1\n",
    "                first_loop_10101 = False\n",
    "                list_10101.append(temp)\n",
    "                temp = []\n",
    "\n",
    "\n",
    "            elif '북형제' in row[1]:\n",
    "                count = 4\n",
    "                for val in row[4:]:\n",
    "                    if len(val) > 0:\n",
    "                        temp.append(float(val))\n",
    "                        if first_loop_10102:  # 헤더 추출\n",
    "                            header_10102.append(header[count])\n",
    "                    count += 1\n",
    "                first_loop_10102 = False\n",
    "                list_10102.append(temp)\n",
    "                temp = []\n",
    "\n",
    "            elif '생도등표' in row[1]:\n",
    "                count = 4\n",
    "                for val in row[4:]:\n",
    "                    if len(val) > 0:\n",
    "                        temp.append(float(val))\n",
    "                        if first_loop_10103:  # 헤더 추출\n",
    "                            header_10103.append(header[count])\n",
    "                    count += 1\n",
    "                first_loop_10103 = False\n",
    "                list_10103.append(temp)\n",
    "                temp = []\n",
    "\n",
    "            elif '묵호항' in row[1]:\n",
    "                count = 4\n",
    "                for val in row[4:]:\n",
    "                    if len(val) > 0:\n",
    "                        temp.append(float(val))\n",
    "                        if first_loop_11101:  # 헤더 추출\n",
    "                            header_11101.append(header[count])\n",
    "                    count += 1\n",
    "                first_loop_11101 = False\n",
    "                list_11101.append(temp)\n",
    "                temp = []\n",
    "\n",
    "            elif '주문진항' in row[1]:\n",
    "                count = 4\n",
    "                for val in row[4:]:\n",
    "                    if len(val) > 0:\n",
    "                        temp.append(float(val))\n",
    "                        if first_loop_11102:  # 헤더 추출\n",
    "                            header_11102.append(header[count])\n",
    "                    count += 1\n",
    "                first_loop_11102 = False\n",
    "                list_11102.append(temp)\n",
    "                temp = []\n"
   ]
  },
  {
   "cell_type": "code",
   "execution_count": 4,
   "id": "33b26c6a-1c24-4595-9890-5eb51dd10811",
   "metadata": {},
   "outputs": [],
   "source": [
    "def sortList(list):\n",
    "    # 오름차순\n",
    "    list.sort(key=lambda x: x[0])\n",
    "\n",
    "    # 내림차순\n",
    "    #list.sort(key=lambda x: -x[0])"
   ]
  },
  {
   "cell_type": "code",
   "execution_count": 8,
   "id": "49faba62-dfb6-4b9a-9a7b-2a3eff7b5ddb",
   "metadata": {},
   "outputs": [],
   "source": [
    "def makePlot(list, header_list, header_str):\n",
    "    x = []\n",
    "    y = []\n",
    "\n",
    "    index = header_list.index(header_str)\n",
    "    print('Parameter : ', header_str)\n",
    "    print('Header index : ', index)\n",
    "    print('Data : ', len(list))\n",
    "    for raw in list:\n",
    "        #date = datetime(year=int(raw[0][0:4]), mont=int(raw[0][4:6]), day=int(raw[6:8]))\n",
    "        x.append(raw[0])\n",
    "        y.append(raw[index])\n",
    "    plt.plot(x, y)\n",
    "    plt.title(header_str)   \n"
   ]
  },
  {
   "cell_type": "code",
   "execution_count": 10,
   "id": "77cc3daa-b026-4225-8d18-8d7d9c4d10d4",
   "metadata": {},
   "outputs": [
    {
     "name": "stdin",
     "output_type": "stream",
     "text": [
      "등대 입력 :  주문진항\n"
     ]
    },
    {
     "name": "stdout",
     "output_type": "stream",
     "text": [
      "Header list :  ['COLCT_DT', 'LATITUDE', 'LONGITUDE', 'LANTERN_STATUS', 'SPARE_STATUS', 'MAIN_VOLT_STATUS', 'SOLAR_VOLT_STATUS', 'BATTERY_VOLT_STATUS', 'SPARE_VOLT_STATUS', 'AIS_CURR_STATUS', 'LANTERN_CURR_STATUS', 'DATALOGGER_CURR_STATUS', 'CHARGER_CURR_STATUS', 'COLCT_DT', 'LATITUDE', 'LONGITUDE', 'LANTERN_STATUS', 'SPARE_STATUS', 'MAIN_VOLT_STATUS', 'SOLAR_VOLT_STATUS', 'BATTERY_VOLT_STATUS', 'SPARE_VOLT_STATUS', 'AIS_CURR_STATUS', 'LANTERN_CURR_STATUS', 'DATALOGGER_CURR_STATUS', 'CHARGER_CURR_STATUS', 'COLCT_DT', 'LATITUDE', 'LONGITUDE', 'LANTERN_STATUS', 'SPARE_STATUS', 'MAIN_VOLT_STATUS', 'SOLAR_VOLT_STATUS', 'BATTERY_VOLT_STATUS', 'SPARE_VOLT_STATUS', 'AIS_CURR_STATUS', 'LANTERN_CURR_STATUS', 'DATALOGGER_CURR_STATUS', 'CHARGER_CURR_STATUS']\n"
     ]
    },
    {
     "name": "stdin",
     "output_type": "stream",
     "text": [
      "파라미터 입력 :  BATTERY_VOLT_STATUS\n"
     ]
    },
    {
     "name": "stdout",
     "output_type": "stream",
     "text": [
      "Parameter :  BATTERY_VOLT_STATUS\n",
      "Header index :  7\n",
      "Data :  68865\n"
     ]
    },
    {
     "data": {
      "image/png": "[encoded data removed]",
      "text/plain": [
       "<Figure size 432x288 with 1 Axes>"
      ]
     },
     "metadata": {
      "needs_background": "light"
     },
     "output_type": "display_data"
    }
   ],
   "source": [
    "if __name__ == '__main__':\n",
    "    readCSV()\n",
    "    list_name = input('등대 입력 : ')\n",
    "\n",
    "    if '부산항' in list_name:\n",
    "        list = list_10101\n",
    "        header_list = header_10101\n",
    "\n",
    "    elif '북형제' in list_name:\n",
    "        list = list_10102\n",
    "        header_list = header_10102\n",
    "\n",
    "    elif '생도등표' in list_name:\n",
    "        list = list_10103\n",
    "        header_list = header_10103\n",
    "\n",
    "    elif '묵호항' in list_name:\n",
    "        list = list_11101\n",
    "        header_list = header_11101\n",
    "\n",
    "    elif '주문진항' in list_name:\n",
    "        list = list_11102\n",
    "        header_list = header_11102\n",
    "\n",
    "    print('Header list : ', header_list)\n",
    "    \n",
    "    header_str = input('파라미터 입력 : ')\n",
    "    sortList(list)\n",
    "    makePlot(list, header_list, header_str)"
   ]
  }
 ],
 "metadata": {
  "kernelspec": {
   "display_name": "Python 3",
   "language": "python",
   "name": "python3"
  },
  "language_info": {
   "codemirror_mode": {
    "name": "ipython",
    "version": 3
   },
   "file_extension": ".py",
   "mimetype": "text/x-python",
   "name": "python",
   "nbconvert_exporter": "python",
   "pygments_lexer": "ipython3",
   "version": "3.6.8"
  }
 },
 "nbformat": 4,
 "nbformat_minor": 5
}
